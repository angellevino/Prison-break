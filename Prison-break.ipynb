{
 "cells": [
  {
   "cell_type": "code",
   "execution_count": 10,
   "id": "24319399",
   "metadata": {
    "scrolled": true
   },
   "outputs": [],
   "source": [
    "# The big boss of Montreal Prison celebrates his 50th birthday next week. For this special occasion \n",
    "# he came up with the idea to let some prisoners go. In the prison there are 600 cells, one person in each. \n",
    "# The cells are numbered from 1 to 600. The prison guard should go through all cells and open the doors. \n",
    "# Then he goes to the 2nd cell and flips the lock at every second cell \n",
    "# (that is, close the door if it was open and open it if it was closed). \n",
    "# Then go the 3rd cell and flip the lock of every third cell, etc. This procedure should be repeated with every cell. \n",
    "# Question: who are those lucky guys who get release, i.e. which cells remain open at the end?\n",
    "\n",
    "total_cell = 600\n",
    "cells = [0] * total_cell\n",
    "#0 means closed and 1 open \n",
    "    \n",
    "for turn in range(1,total_cell+1):\n",
    "    for cell in range(turn-1, total_cell, turn):\n",
    "        cells[cell] = 1 - cells[cell]"
   ]
  },
  {
   "cell_type": "code",
   "execution_count": 11,
   "id": "dd50ef64",
   "metadata": {},
   "outputs": [
    {
     "name": "stdout",
     "output_type": "stream",
     "text": [
      "Prisoner from these cells got released: 1\n",
      "Prisoner from these cells got released: 4\n",
      "Prisoner from these cells got released: 9\n",
      "Prisoner from these cells got released: 16\n",
      "Prisoner from these cells got released: 25\n",
      "Prisoner from these cells got released: 36\n",
      "Prisoner from these cells got released: 49\n",
      "Prisoner from these cells got released: 64\n",
      "Prisoner from these cells got released: 81\n",
      "Prisoner from these cells got released: 100\n",
      "Prisoner from these cells got released: 121\n",
      "Prisoner from these cells got released: 144\n",
      "Prisoner from these cells got released: 169\n",
      "Prisoner from these cells got released: 196\n",
      "Prisoner from these cells got released: 225\n",
      "Prisoner from these cells got released: 256\n",
      "Prisoner from these cells got released: 289\n",
      "Prisoner from these cells got released: 324\n",
      "Prisoner from these cells got released: 361\n",
      "Prisoner from these cells got released: 400\n",
      "Prisoner from these cells got released: 441\n",
      "Prisoner from these cells got released: 484\n",
      "Prisoner from these cells got released: 529\n",
      "Prisoner from these cells got released: 576\n"
     ]
    }
   ],
   "source": [
    "for i in range(total_cell):\n",
    "    if cells[i] == 1:\n",
    "        print(\"Prisoner from these cells got released:\", i+1)\n",
    "        "
   ]
  },
  {
   "cell_type": "code",
   "execution_count": null,
   "id": "6da60f17",
   "metadata": {},
   "outputs": [],
   "source": []
  }
 ],
 "metadata": {
  "kernelspec": {
   "display_name": "Python 3 (ipykernel)",
   "language": "python",
   "name": "python3"
  },
  "language_info": {
   "codemirror_mode": {
    "name": "ipython",
    "version": 3
   },
   "file_extension": ".py",
   "mimetype": "text/x-python",
   "name": "python",
   "nbconvert_exporter": "python",
   "pygments_lexer": "ipython3",
   "version": "3.10.11"
  }
 },
 "nbformat": 4,
 "nbformat_minor": 5
}
